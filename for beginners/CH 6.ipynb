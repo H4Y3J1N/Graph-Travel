{
 "cells": [
  {
   "cell_type": "code",
   "execution_count": null,
   "metadata": {},
   "outputs": [],
   "source": [
    "import torch\n",
    "import torch.nn.functional as F\n",
    "from torch_geometric.nn import GATv2Conv\n",
    "from torch_geometric.datasets import Amazon\n",
    "from torch_geometric.data import DataLoader\n",
    "from torch.optim.lr_scheduler import StepLR\n",
    "from sklearn.metrics import precision_score, recall_score, f1_score"
   ]
  },
  {
   "cell_type": "code",
   "execution_count": null,
   "metadata": {},
   "outputs": [],
   "source": [
    "# 데이터셋 불러오기\n",
    "dataset = Amazon(root=\"./tmp/\", name=\"Computers\")\n",
    "data = dataset[0]"
   ]
  },
  {
   "cell_type": "code",
   "execution_count": null,
   "metadata": {},
   "outputs": [],
   "source": [
    "data"
   ]
  },
  {
   "cell_type": "code",
   "execution_count": null,
   "metadata": {},
   "outputs": [],
   "source": [
    "# 데이터를 training과 test로 분리\n",
    "num_nodes = data.num_nodes\n",
    "train_mask = torch.zeros(num_nodes, dtype=torch.bool)\n",
    "train_mask[:int(0.8 * num_nodes)] = 1  # 80%의 노드를 학습에 사용\n",
    "test_mask = ~train_mask"
   ]
  },
  {
   "cell_type": "code",
   "execution_count": null,
   "metadata": {},
   "outputs": [],
   "source": [
    "# GATv2 모델 정의\n",
    "class GATv2Net(torch.nn.Module):\n",
    "    def __init__(self, in_channels, out_channels):\n",
    "        super(GATv2Net, self).__init__()\n",
    "        self.conv1 = GATv2Conv(in_channels, 128, heads=4)\n",
    "        self.bn1 = torch.nn.BatchNorm1d(128 * 4)\n",
    "        self.conv2 = GATv2Conv(128 * 4, out_channels, heads=1, concat=False)\n",
    "        self.bn2 = torch.nn.BatchNorm1d(out_channels)\n",
    "\n",
    "    def forward(self, data):\n",
    "        x, edge_index = data.x, data.edge_index\n",
    "\n",
    "        x = self.conv1(x, edge_index)\n",
    "        x = self.bn1(x)\n",
    "        x = F.elu(x)\n",
    "        x = F.dropout(x, p=0.6, training=self.training)\n",
    "\n",
    "        x = self.conv2(x, edge_index)\n",
    "        x = self.bn2(x)\n",
    "        return F.log_softmax(x, dim=1)"
   ]
  },
  {
   "cell_type": "code",
   "execution_count": null,
   "metadata": {},
   "outputs": [],
   "source": [
    "# 모델과 옵티마이저 초기화\n",
    "device = torch.device(\"cuda\" if torch.cuda.is_available() else \"cpu\")\n",
    "model = GATv2Net(dataset.num_features, dataset.num_classes).to(device)\n",
    "data = data.to(device)\n",
    "optimizer = torch.optim.AdamW(model.parameters(), lr=0.005, weight_decay=5e-4)\n",
    "\n",
    "# Learning Rate 스케쥴러\n",
    "scheduler = StepLR(optimizer, step_size=50, gamma=0.5)\n",
    "\n",
    "# Early Stopping 파라미터\n",
    "patience = 20\n",
    "best_loss = None\n",
    "epochs_no_improve = 0"
   ]
  },
  {
   "cell_type": "code",
   "execution_count": null,
   "metadata": {},
   "outputs": [],
   "source": [
    "# 학습 루프\n",
    "model.train()\n",
    "for epoch in range(100):\n",
    "    optimizer.zero_grad()\n",
    "    out = model(data)\n",
    "    loss = F.nll_loss(out[train_mask], data.y[train_mask])\n",
    "    loss.backward()\n",
    "    optimizer.step()\n",
    "\n",
    "    scheduler.step()\n",
    "\n",
    "    print(f\"Epoch {epoch+1}, Loss: {loss.item()}\")\n",
    "\n",
    "    # Early Stopping\n",
    "    if best_loss is None:\n",
    "        best_loss = loss.item()\n",
    "    elif best_loss > loss.item():\n",
    "        best_loss = loss.item()\n",
    "        epochs_no_improve = 0\n",
    "    else:\n",
    "        epochs_no_improve += 1\n",
    "        if epochs_no_improve == patience:\n",
    "            print(\"Early stopping!\")\n",
    "            break"
   ]
  },
  {
   "cell_type": "code",
   "execution_count": null,
   "metadata": {},
   "outputs": [],
   "source": [
    "# 모델을 평가 모드로 설정\n",
    "model.eval()\n",
    "_, pred = model(data).max(dim=1)\n",
    "\n",
    "# 테스트 데이터에서의 예측과 실제 라벨\n",
    "pred_test = pred[test_mask].cpu().numpy()\n",
    "y_test = data.y[test_mask].cpu().numpy()\n",
    "\n",
    "# 정확도 계산\n",
    "correct = pred[test_mask].eq(data.y[test_mask]).sum().item()\n",
    "accuracy = correct / test_mask.sum().item()\n",
    "\n",
    "# 정밀도, 재현율, F1 점수 계산\n",
    "precision = precision_score(y_test, pred_test, average='macro')\n",
    "recall = recall_score(y_test, pred_test, average='macro')\n",
    "f1 = f1_score(y_test, pred_test, average='macro')\n",
    "\n",
    "print(f\"Test accuracy: {accuracy:.4f}\")\n",
    "print(f\"Test precision: {precision:.4f}\")\n",
    "print(f\"Test recall: {recall:.4f}\")\n",
    "print(f\"Test F1 score: {f1:.4f}\")"
   ]
  }
 ],
 "metadata": {
  "language_info": {
   "name": "python"
  },
  "orig_nbformat": 4
 },
 "nbformat": 4,
 "nbformat_minor": 2
}
