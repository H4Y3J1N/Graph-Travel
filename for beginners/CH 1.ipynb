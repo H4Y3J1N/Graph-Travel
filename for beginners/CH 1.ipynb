{
 "cells": [
  {
   "cell_type": "code",
   "execution_count": null,
   "metadata": {},
   "outputs": [],
   "source": [
    "import torch\n",
    "from torch_geometric.datasets import Planetoid\n",
    "from torch_geometric.utils import to_networkx\n",
    "import networkx as nx\n",
    "import matplotlib.pyplot as plt\n",
    "import numpy as np\n",
    "import pandas as pd\n",
    "from pathlib import Path\n",
    "from collections import Counter"
   ]
  },
  {
   "attachments": {},
   "cell_type": "markdown",
   "metadata": {},
   "source": [
    "# CORA 데이터셋 로드"
   ]
  },
  {
   "cell_type": "code",
   "execution_count": null,
   "metadata": {},
   "outputs": [],
   "source": [
    "dataset = Planetoid(root='/tmp/Cora', name='Cora')\n",
    "data = dataset[0]\n",
    "data"
   ]
  },
  {
   "attachments": {},
   "cell_type": "markdown",
   "metadata": {},
   "source": [
    "# Look at the Data\n",
    "## Graph & Degree"
   ]
  },
  {
   "cell_type": "code",
   "execution_count": null,
   "metadata": {},
   "outputs": [],
   "source": [
    "# torch_geometric의 데이터를 NetworkX 그래프로 변환\n",
    "edge_index = data.edge_index\n",
    "edges = edge_index.t().numpy()\n",
    "graph_nx = nx.from_edgelist(edges, create_using=nx.Graph())\n",
    "\n",
    "# 그래프 그리기\n",
    "plt.figure(figsize=(10, 10))\n",
    "pos = nx.spring_layout(graph_nx, seed=42)  # Spring layout 사용\n",
    "nx.draw_networkx(graph_nx, pos, with_labels=False, node_size=50, node_color=\"skyblue\")\n",
    "plt.title(\"Cora Graph Visualization\")\n",
    "plt.show()"
   ]
  },
  {
   "attachments": {},
   "cell_type": "markdown",
   "metadata": {},
   "source": [
    "## Node Degree"
   ]
  },
  {
   "cell_type": "code",
   "execution_count": null,
   "metadata": {},
   "outputs": [],
   "source": [
    "# node degree 계산\n",
    "degrees = [degree for node, degree in nx.degree(graph_nx)]\n",
    "degree_count = Counter(degrees)\n",
    "\n",
    "# Degree 분포 출력\n",
    "plt.figure(figsize=(10, 6))\n",
    "plt.bar(degree_count.keys(), degree_count.values())\n",
    "plt.title(\"Degree Distribution of Cora Graph\")\n",
    "plt.xlabel(\"Degree\")\n",
    "plt.ylabel(\"Count\")\n",
    "plt.show()"
   ]
  },
  {
   "attachments": {},
   "cell_type": "markdown",
   "metadata": {},
   "source": [
    "## Subgraph"
   ]
  },
  {
   "cell_type": "code",
   "execution_count": null,
   "metadata": {},
   "outputs": [],
   "source": [
    "import torch\n",
    "from torch_geometric.datasets import Planetoid\n",
    "import networkx as nx\n",
    "import matplotlib.pyplot as plt\n",
    "\n",
    "# 특정 노드를 선택\n",
    "selected_node = 0\n",
    "\n",
    "# 선택한 노드와 직접적으로 연결된 노드들만으로 구성된 subgraph를 추출\n",
    "neighbors = list(graph_nx.neighbors(selected_node))\n",
    "neighbors.append(selected_node)\n",
    "subgraph_nx = graph_nx.subgraph(neighbors)\n",
    "\n",
    "# 그래프 그리기\n",
    "plt.figure(figsize=(6, 6))\n",
    "pos = nx.spring_layout(subgraph_nx, seed=42)  # Spring layout 사용\n",
    "nx.draw_networkx(subgraph_nx, pos, with_labels=True, node_color=\"skyblue\")\n",
    "plt.title(\"Subgraph Centered at Node {}\".format(selected_node))\n",
    "plt.show()\n",
    "\n",
    "# node degree 출력\n",
    "print(f\"node degree({selected_node}) = {subgraph_nx.degree[selected_node]}\")"
   ]
  },
  {
   "attachments": {},
   "cell_type": "markdown",
   "metadata": {},
   "source": [
    "## Directrional Graph"
   ]
  },
  {
   "cell_type": "code",
   "execution_count": null,
   "metadata": {},
   "outputs": [],
   "source": [
    "# 특정 노드를 선택\n",
    "selected_node = 0\n",
    "\n",
    "# 선택한 노드와 직접적으로 연결된 노드들만으로 구성된 서브그래프를 추출\n",
    "neighbors = list(graph_nx.neighbors(selected_node))\n",
    "neighbors.append(selected_node)\n",
    "subgraph_nx = graph_nx.subgraph(neighbors)\n",
    "\n",
    "# 서브그래프를 방향성 그래프로 변환\n",
    "subgraph_nx_directed = nx.DiGraph()\n",
    "\n",
    "# 선택된 노드에서 그 이웃 노드들로 향하는 방향성 추가\n",
    "for neighbor in neighbors:\n",
    "    if neighbor != selected_node:\n",
    "        subgraph_nx_directed.add_edge(selected_node, neighbor)\n",
    "\n",
    "# 그래프 그리기\n",
    "plt.figure(figsize=(6, 6))\n",
    "pos = nx.spring_layout(subgraph_nx_directed, seed=42)  # Spring layout 사용\n",
    "nx.draw_networkx(subgraph_nx_directed, pos, with_labels=True, node_color=\"skyblue\", arrows=True)\n",
    "plt.title(\"Directed Subgraph Centered at Node {}\".format(selected_node))\n",
    "plt.show()\n",
    "\n",
    "# node degree 출력\n",
    "print(f\"node out-degree({selected_node}) = {subgraph_nx_directed.out_degree[selected_node]}\")\n",
    "print(f\"node in-degree({selected_node}) = {subgraph_nx_directed.in_degree[selected_node]}\")"
   ]
  },
  {
   "attachments": {},
   "cell_type": "markdown",
   "metadata": {},
   "source": [
    "## Weight"
   ]
  },
  {
   "cell_type": "code",
   "execution_count": null,
   "metadata": {},
   "outputs": [],
   "source": [
    "# Cora 데이터셋 로드\n",
    "dataset = Planetoid(root='/tmp/Cora', name='Cora')\n",
    "data = dataset[0]\n",
    "\n",
    "# torch_geometric의 데이터를 NetworkX 그래프로 변환\n",
    "edge_index = data.edge_index\n",
    "edges = edge_index.t().numpy()\n",
    "graph_nx = nx.from_edgelist(edges, create_using=nx.Graph())\n",
    "\n",
    "# 특정 노드를 선택\n",
    "selected_node = 0\n",
    "\n",
    "# 선택한 노드와 직접적으로 연결된 노드들만으로 구성된 subgraph를 추출\n",
    "neighbors = list(graph_nx.neighbors(selected_node))\n",
    "neighbors.append(selected_node)\n",
    "subgraph_nx = graph_nx.subgraph(neighbors)\n",
    "\n",
    "# edge의 수만큼 무작위 가중치를 생성하고, 이를 각 edge의 가중치로 설정\n",
    "weights = np.random.rand(subgraph_nx.number_of_edges())\n",
    "for i, edge in enumerate(subgraph_nx.edges):\n",
    "    subgraph_nx.edges[edge]['weight'] = weights[i]\n",
    "\n",
    "# 그래프 그리기\n",
    "pos = nx.spring_layout(subgraph_nx, seed=42)  # Spring layout 사용\n",
    "nx.draw(subgraph_nx, pos, with_labels=True, node_color=\"skyblue\")\n",
    "\n",
    "# edge의 가중치를 그래프에 표시\n",
    "edge_labels = nx.get_edge_attributes(subgraph_nx, 'weight')\n",
    "nx.draw_networkx_edge_labels(subgraph_nx, pos, edge_labels=edge_labels)\n",
    "\n",
    "plt.title(\"Subgraph Centered at Node {} with Random Edge Weights\".format(selected_node))\n",
    "plt.show()\n",
    "\n",
    "# node degree 출력\n",
    "print(f\"node degree({selected_node}) = {subgraph_nx.degree[selected_node]}\")"
   ]
  },
  {
   "attachments": {},
   "cell_type": "markdown",
   "metadata": {},
   "source": [
    "## Connected Graphs"
   ]
  },
  {
   "cell_type": "code",
   "execution_count": null,
   "metadata": {},
   "outputs": [],
   "source": [
    "import torch\n",
    "from torch_geometric.datasets import Planetoid\n",
    "import networkx as nx\n",
    "import numpy as np\n",
    "import matplotlib.pyplot as plt\n",
    "\n",
    "\n",
    "# 중심 노드를 선택 (여기서는 0, 1, 2를 선택)\n",
    "center_nodes = [0, 1, 2]\n",
    "\n",
    "for i, selected_node in enumerate(center_nodes):\n",
    "    # 선택한 노드와 직접적으로 연결된 노드들만으로 구성된 subgraph를 추출\n",
    "    neighbors = list(graph_nx.neighbors(selected_node))\n",
    "    neighbors.append(selected_node)\n",
    "    subgraph_nx = graph_nx.subgraph(neighbors)\n",
    "\n",
    "    # edge의 수만큼 무작위 가중치를 생성하고, 이를 각 edge의 가중치로 설정\n",
    "    weights = np.random.rand(subgraph_nx.number_of_edges())\n",
    "    for i, edge in enumerate(subgraph_nx.edges):\n",
    "        subgraph_nx.edges[edge]['weight'] = weights[i]\n",
    "\n",
    "    # 그래프 그리기\n",
    "    plt.figure(i)\n",
    "    pos = nx.spring_layout(subgraph_nx, seed=42)  # Spring layout 사용\n",
    "    nx.draw(subgraph_nx, pos, with_labels=True, node_color=\"skyblue\")\n",
    "\n",
    "    # edge의 가중치를 그래프에 표시\n",
    "    edge_labels = nx.get_edge_attributes(subgraph_nx, 'weight')\n",
    "    nx.draw_networkx_edge_labels(subgraph_nx, pos, edge_labels=edge_labels)\n",
    "\n",
    "    plt.title(\"Subgraph Centered at Node {} with Random Edge Weights\".format(selected_node))\n",
    "    plt.show()\n",
    "\n",
    "    # node degree 출력\n",
    "    print(f\"node degree({selected_node}) = {subgraph_nx.degree[selected_node]}\")\n",
    "\n",
    "    # 서브그래프의 연결성 확인\n",
    "    print(f\"Is subgraph centered at node {selected_node} connected? {nx.is_connected(subgraph_nx)}\")\n"
   ]
  },
  {
   "attachments": {},
   "cell_type": "markdown",
   "metadata": {},
   "source": [
    "## 큰 서브그래프 1개로 합쳐 봅시다!"
   ]
  },
  {
   "cell_type": "code",
   "execution_count": null,
   "metadata": {},
   "outputs": [],
   "source": [
    "import torch\n",
    "from torch_geometric.datasets import Planetoid\n",
    "import networkx as nx\n",
    "import numpy as np\n",
    "import matplotlib.pyplot as plt\n",
    "\n",
    "# 중심 노드를 선택 (여기서는 1, 2를 선택)\n",
    "center_nodes = [0, 1, 2]\n",
    "\n",
    "# 모든 이웃 노드를 저장할 리스트 초기화\n",
    "all_neighbors = []\n",
    "\n",
    "# 중심 노드들의 모든 이웃 노드를 all_neighbors에 추가\n",
    "for selected_node in center_nodes:\n",
    "    neighbors = list(graph_nx.neighbors(selected_node))\n",
    "    all_neighbors += neighbors\n",
    "\n",
    "# 중심 노드들도 all_neighbors에 추가\n",
    "all_neighbors += center_nodes\n",
    "\n",
    "# all_neighbors에 포함된 모든 노드들만으로 구성된 subgraph를 추출\n",
    "subgraph_nx = graph_nx.subgraph(all_neighbors)\n",
    "\n",
    "# 그래프 그리기\n",
    "pos = nx.spring_layout(subgraph_nx, seed=42)  # Spring layout 사용\n",
    "nx.draw(subgraph_nx, pos, with_labels=True, node_color=\"skyblue\")\n",
    "\n",
    "# node degree 출력\n",
    "for selected_node in center_nodes:\n",
    "    print(f\"node degree({selected_node}) = {subgraph_nx.degree[selected_node]}\")\n",
    "\n",
    "# 그래프의 연결성 확인\n",
    "print(f\"Is subgraph connected? {nx.is_connected(subgraph_nx)}\")\n",
    "\n",
    "plt.show()"
   ]
  },
  {
   "attachments": {},
   "cell_type": "markdown",
   "metadata": {},
   "source": [
    "## Centrality"
   ]
  },
  {
   "cell_type": "code",
   "execution_count": null,
   "metadata": {},
   "outputs": [],
   "source": [
    "# Degree Centrality\n",
    "degree_centrality = nx.degree_centrality(subgraph_nx)\n",
    "print(f\"Degree Centrality: {degree_centrality[0]}\")  # 노드 0에 대해서만 계산\n",
    "\n",
    "# Betweenness Centrality\n",
    "betweenness_centrality = nx.betweenness_centrality(subgraph_nx)\n",
    "print(f\"Betweenness Centrality: {betweenness_centrality[0]}\") # 노드 0에 대해서만 계산\n",
    "\n",
    "# Eigenvector Centrality\n",
    "# eigenvector_centrality = nx.eigenvector_centrality(subgraph_nx)\n",
    "# print(f\"Eigenvector Centrality: {eigenvector_centrality[0]}\") # 노드 0에 대해서만 계산\n",
    "\n",
    "# Closeness Centrality\n",
    "closeness_centrality = nx.closeness_centrality(subgraph_nx)\n",
    "print(f\"Closeness Centrality: {closeness_centrality[0]}\") # 노드 0에 대해서만 계산"
   ]
  },
  {
   "attachments": {},
   "cell_type": "markdown",
   "metadata": {},
   "source": [
    "## Density & Adjacency Matrix"
   ]
  },
  {
   "cell_type": "code",
   "execution_count": null,
   "metadata": {},
   "outputs": [],
   "source": [
    "# 그래프의 Density 계산\n",
    "density = nx.density(subgraph_nx)\n",
    "print(f\"Density: {density}\")\n",
    "\n",
    "# Adjacency Matrix 만들기\n",
    "adj_matrix = nx.adjacency_matrix(subgraph_nx)\n",
    "\n",
    "# Adjacency Matrix 출력하기\n",
    "print(\"Adjacency Matrix:\")\n",
    "print(adj_matrix.todense())  # .todense()를 사용하여 sparse matrix를 dense matrix로 변환"
   ]
  }
 ],
 "metadata": {
  "language_info": {
   "name": "python"
  },
  "orig_nbformat": 4
 },
 "nbformat": 4,
 "nbformat_minor": 2
}
