{
 "cells": [
  {
   "attachments": {},
   "cell_type": "markdown",
   "metadata": {},
   "source": [
    "## Load the Data"
   ]
  },
  {
   "cell_type": "code",
   "execution_count": null,
   "metadata": {},
   "outputs": [],
   "source": [
    "# 필요한 모든 라이브러리 임포트\n",
    "import numpy as np\n",
    "import pandas as pd\n",
    "import random\n",
    "import networkx as nx\n",
    "import torch\n",
    "from torch_geometric.datasets import Planetoid\n",
    "from torch_geometric.utils import to_networkx\n",
    "import matplotlib.pyplot as plt\n",
    "from sklearn.ensemble import RandomForestClassifier\n",
    "from sklearn.metrics import classification_report\n",
    "from sklearn.manifold import TSNE\n",
    "from gensim.models import Word2Vec\n",
    "\n",
    "# CORA 데이터셋 로드\n",
    "dataset = Planetoid(root='/tmp/Cora', name='Cora')\n",
    "data = dataset[0]\n",
    "\n",
    "# torch_geometric의 데이터를 NetworkX 그래프로 변환\n",
    "edge_index = data.edge_index\n",
    "edges = edge_index.t().numpy()\n",
    "G = nx.from_edgelist(edges, create_using=nx.Graph())"
   ]
  },
  {
   "attachments": {},
   "cell_type": "markdown",
   "metadata": {},
   "source": [
    "## Random Walk"
   ]
  },
  {
   "cell_type": "code",
   "execution_count": null,
   "metadata": {},
   "outputs": [],
   "source": [
    " def random_walk(G, start_node, walk_length):\n",
    "    walk = [start_node] # 시작 노드를 포함하는 리스트 walk를 생성\n",
    "    # walk 리스트는 무작위 경로의 노드를 저장하는 데 사용\n",
    "    \n",
    "    for i in range(walk_length - 1):\n",
    "        # 시작 노드가 이미 walk안에 있으니, -1.\n",
    "        neighbors = list(G.neighbors(walk[-1]))\n",
    "        if len(neighbors) == 0:\n",
    "            break\n",
    "        next_node = random.choice(neighbors)\n",
    "        walk.append(next_node)\n",
    "    return walk"
   ]
  },
  {
   "cell_type": "code",
   "execution_count": null,
   "metadata": {},
   "outputs": [],
   "source": [
    " print(random_walk(G,0,20))"
   ]
  },
  {
   "attachments": {},
   "cell_type": "markdown",
   "metadata": {},
   "source": [
    "## Deep Walk"
   ]
  },
  {
   "cell_type": "code",
   "execution_count": null,
   "metadata": {},
   "outputs": [],
   "source": [
    " def unbiased_random_walk(G, node, walk_length):\n",
    "    walk = [node]\n",
    "    for _ in range(walk_length - 1):\n",
    "        neighbors = list(G.neighbors(walk[-1]))\n",
    "        if len(neighbors) == 0:\n",
    "            break\n",
    "        walk.append(random.choice(neighbors))\n",
    "    return walk\n",
    "\n",
    "# Random Walk 생성\n",
    "walks = [unbiased_random_walk(G, node, 10) for node in range(data.num_nodes) for _ in range(10)]"
   ]
  },
  {
   "cell_type": "code",
   "execution_count": null,
   "metadata": {},
   "outputs": [],
   "source": [
    " # String 형태로 변환 (Word2Vec 입력을 위해)\n",
    "walks = [[str(node) for node in walk] for walk in walks]\n",
    "\n",
    "# Word2Vec 학습\n",
    "model = Word2Vec(walks, vector_size=100, window=5, min_count=0, hs=1, sg=1, workers=4, epochs=10)\n",
    "\n",
    "# 노드 임베딩 추출\n",
    "embeddings = np.array([model.wv.get_vector(str(i)) for i in range(data.num_nodes)])"
   ]
  },
  {
   "cell_type": "code",
   "execution_count": null,
   "metadata": {},
   "outputs": [],
   "source": [
    " # t-SNE를 통한 시각화\n",
    "embeddings_2d = TSNE(n_components=2).fit_transform(embeddings)\n",
    "plt.scatter(embeddings_2d[:, 0], embeddings_2d[:, 1], c=data.y)\n",
    "plt.show()"
   ]
  },
  {
   "cell_type": "code",
   "execution_count": null,
   "metadata": {},
   "outputs": [],
   "source": [
    " # 레이블 추출\n",
    "labels = data.y.numpy()\n",
    "\n",
    "# 노드 선택 (예: 첫 50개 노드)\n",
    "selected_nodes = range(500)\n",
    "subG = G.subgraph(selected_nodes)\n",
    "\n",
    "# 레이블에 따른 색상 매핑\n",
    "label_color_mapping = {label: idx for idx, label in enumerate(np.unique(labels[selected_nodes]))}\n",
    "node_colors = [label_color_mapping[label] for label in labels[selected_nodes]]\n",
    "\n",
    "plt.figure(figsize=(12,12), dpi=300)\n",
    "plt.axis('off')\n",
    "nx.draw_networkx(subG,\n",
    "                 pos=nx.spring_layout(subG, seed=42, k=0.15),  # k 인자를 조정하여 노드 간의 거리를 늘릴 수 있습니다.\n",
    "                 node_color=node_colors,\n",
    "                 node_size=400,  # 노드의 크기를 줄입니다.\n",
    "                 edge_color='black',  # 엣지의 색상을 변경합니다.\n",
    "                 width=1.5,  # 엣지의 두께를 두꺼워지도록 설정합니다.\n",
    "                 cmap='coolwarm',\n",
    "                 font_size=14,\n",
    "                 font_color='black')\n",
    "plt.show()"
   ]
  },
  {
   "attachments": {},
   "cell_type": "markdown",
   "metadata": {},
   "source": [
    "## Node Classification"
   ]
  },
  {
   "cell_type": "code",
   "execution_count": null,
   "metadata": {},
   "outputs": [],
   "source": [
    "# 레이블이 있는 노드만 선택\n",
    "labels = data.y.numpy()\n",
    "idx_train = data.train_mask.numpy()\n",
    "idx_test = data.test_mask.numpy()\n",
    "\n",
    "X_train, y_train = embeddings[idx_train], labels[idx_train]\n",
    "X_test, y_test = embeddings[idx_test], labels[idx_test]\n",
    "\n",
    "# 랜덤 포레스트 분류기 학습\n",
    "rf = RandomForestClassifier(random_state=42)\n",
    "rf.fit(X_train, y_train)\n",
    "\n",
    "# 예측 및 성능 평가\n",
    "y_pred = rf.predict(X_test)\n",
    "print(classification_report(y_test, y_pred))"
   ]
  },
  {
   "attachments": {},
   "cell_type": "markdown",
   "metadata": {},
   "source": [
    "## final plotting"
   ]
  },
  {
   "cell_type": "code",
   "execution_count": null,
   "metadata": {},
   "outputs": [],
   "source": [
    " # 하나, 둘, 셋, 치즈! 📸\n",
    "\n",
    "plt.figure(figsize= (12,12), dpi= 300)\n",
    "plt.axis('off')\n",
    "nx.draw_networkx(G,\n",
    "               pos = nx.spring_layout(G, seed = 0),\n",
    "               node_color = labels,\n",
    "               node_size = 300,  # 노드 크기 조정\n",
    "               cmap = 'coolwarm',\n",
    "               font_size = 14,\n",
    "               font_color = 'white',\n",
    "               edge_color = 'grey',  # 엣지 색상 설정\n",
    "               width = 1,  # 엣지 두께 설정\n",
    "               with_labels = False)  # 노드 라벨 표시 여부. True로 바꾸면 노드 이름이 출력됩니다!"
   ]
  }
 ],
 "metadata": {
  "language_info": {
   "name": "python"
  },
  "orig_nbformat": 4
 },
 "nbformat": 4,
 "nbformat_minor": 2
}
