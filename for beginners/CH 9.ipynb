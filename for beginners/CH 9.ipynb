{
 "cells": [
  {
   "cell_type": "code",
   "execution_count": null,
   "metadata": {},
   "outputs": [],
   "source": [
    "import torch_geometric_temporal\n",
    "from torch_geometric_temporal import MontevideoBusDatasetLoader\n",
    "from torch_geometric_temporal.signal import temporal_signal_split\n",
    "from torch_geometric_temporal.nn.recurrent import MPNNLSTM\n",
    "import torch"
   ]
  },
  {
   "cell_type": "code",
   "execution_count": null,
   "metadata": {},
   "outputs": [],
   "source": [
    "Dataset_loader = MontevideoBusDatasetLoader()    \n",
    "dataset = Dataset_loader.get_dataset()  \n",
    "\n",
    "train_data, test_data = temporal_signal_split(dataset, train_ratio=0.8)  "
   ]
  },
  {
   "cell_type": "code",
   "execution_count": null,
   "metadata": {},
   "outputs": [],
   "source": [
    "print(len(dataset.edge_index[0]))\n",
    "print(len(dataset.edge_weight))\n",
    "print(len(dataset.targets))\n",
    "print(dataset.snapshot_count)"
   ]
  }
 ],
 "metadata": {
  "language_info": {
   "name": "python"
  },
  "orig_nbformat": 4
 },
 "nbformat": 4,
 "nbformat_minor": 2
}
