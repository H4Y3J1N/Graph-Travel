{
 "cells": [
  {
   "cell_type": "code",
   "execution_count": null,
   "metadata": {},
   "outputs": [],
   "source": [
    "# 필요한 모든 라이브러리 임포트\n",
    "\n",
    "import numpy as np\n",
    "import pandas as pd\n",
    "import seaborn as sns\n",
    "from matplotlib import pyplot as plt\n",
    "import networkx as nx\n",
    "from gensim.models import Word2Vec\n",
    "from sklearn.metrics.pairwise import cosine_similarity\n",
    "import matplotlib.image as mpimg\n",
    "import random"
   ]
  },
  {
   "cell_type": "code",
   "execution_count": null,
   "metadata": {},
   "outputs": [],
   "source": [
    "# H&M 데이터셋 로드\n",
    "\n",
    "articles = pd.read_csv(\"../your data path here/articles.csv\")\n",
    "transactions = pd.read_csv(\"../your data path here/transactions_train.csv\")"
   ]
  },
  {
   "cell_type": "code",
   "execution_count": null,
   "metadata": {},
   "outputs": [],
   "source": [
    "# 아이템과 사용자에 대한 빈도를 계산합니다.\n",
    "item_freq = transactions.groupby('article_id')['customer_id'].nunique() #아이템별로 몇 명의 고객이 구매했는지\n",
    "user_freq = transactions.groupby('customer_id')['article_id'].nunique() #사용자별로 몇 개의 아이템을 구매했는지\n",
    "\n",
    "# 빈도가 100회 이상인 아이템과 사용자만 선택합니다.\n",
    "items = item_freq[item_freq >= 100].index\n",
    "users = user_freq[user_freq >= 100].index\n",
    "\n",
    "# 선택된 아이템과 사용자에 해당하는 행만 남깁니다.\n",
    "filtered_df = transactions[transactions['article_id'].isin(items) & transactions['customer_id'].isin(users)]"
   ]
  },
  {
   "cell_type": "code",
   "execution_count": null,
   "metadata": {},
   "outputs": [],
   "source": [
    "# weight 추가를 위한 집계 \n",
    "# 'customer_id'와 'article_id' 쌍별로 등장하는 빈도를 계산합니다.\n",
    "# 각 고객이 각 아이템을 얼마나 많이 구매했는지 (유저의 아이템별 재구매 횟수)\n",
    "freq = filtered_df.groupby(['customer_id', 'article_id']).size().reset_index(name='frequency')\n",
    "\n",
    "# 'frequency' column을 추가합니다.\n",
    "GraphTravel_HM = filtered_df.merge(freq, on=['customer_id', 'article_id'], how='left')\n",
    "\n",
    "# 'frequency'가 10 이상인 행만 df에 남깁니다.\n",
    "GraphTravel_HM = GraphTravel_HM[GraphTravel_HM['frequency'] >= 10]"
   ]
  },
  {
   "cell_type": "code",
   "execution_count": null,
   "metadata": {},
   "outputs": [],
   "source": [
    "display(GraphTravel_HM)\n",
    "\n",
    "print(\"unique customer_id\" , GraphTravel_HM.customer_id.nunique())\n",
    "print(\"unique article_id\" , GraphTravel_HM.article_id.nunique())"
   ]
  },
  {
   "cell_type": "code",
   "execution_count": null,
   "metadata": {},
   "outputs": [],
   "source": [
    "# frequency column의 히스토그램 및 KDE 그래프를 그립니다.\n",
    "sns.distplot(GraphTravel_HM['frequency'], kde=True, bins=30)\n",
    "\n",
    "plt.title('Distribution of frequency')\n",
    "plt.xlabel('Frequency')\n",
    "plt.ylabel('Density')\n",
    "\n",
    "plt.show()"
   ]
  },
  {
   "cell_type": "code",
   "execution_count": null,
   "metadata": {},
   "outputs": [],
   "source": [
    "# 해시값인 customer_id 정수 매핑\n",
    "unique_customer_ids = GraphTravel_HM['customer_id'].unique()\n",
    "customer_id_mapping = {id: i for i, id in enumerate(unique_customer_ids)}\n",
    "GraphTravel_HM['customer_id'] = GraphTravel_HM['customer_id'].map(customer_id_mapping)\n",
    "\n",
    "# article_id를 prod_name에 매핑하는 dictionary를 생성\n",
    "item_name_mapping = dict(zip(articles['article_id'], articles['prod_name'])) # prod_name"
   ]
  },
  {
   "cell_type": "code",
   "execution_count": null,
   "metadata": {},
   "outputs": [],
   "source": [
    "# 그래프 초기화\n",
    "G = nx.Graph()\n",
    "\n",
    "# 노드와 엣지를 추가\n",
    "for index, row in GraphTravel_HM.iterrows():\n",
    "    G.add_node(row['customer_id'], type='user')\n",
    "    G.add_node(row['article_id'], type='item')\n",
    "    \n",
    "    # 'customer_id'와 'article_id' 사이에 가중치가 'frequency'인 엣지를 추가\n",
    "    G.add_edge(row['customer_id'], row['article_id'], weight=row['frequency'])"
   ]
  },
  {
   "cell_type": "code",
   "execution_count": null,
   "metadata": {},
   "outputs": [],
   "source": [
    "# biased random walk 코드 \n",
    "def biased_random_walk(G, start_node, walk_length, p=1, q=1):\n",
    "    walk = [start_node]\n",
    "\n",
    "    while len(walk) < walk_length:\n",
    "        cur_node = walk[-1]\n",
    "        cur_neighbors = list(G.neighbors(cur_node))\n",
    "\n",
    "        if len(cur_neighbors) > 0:\n",
    "            if len(walk) == 1:\n",
    "                walk.append(random.choice(cur_neighbors))\n",
    "            else:\n",
    "                prev_node = walk[-2]\n",
    "\n",
    "                probability = []\n",
    "                for neighbor in cur_neighbors:\n",
    "                    if neighbor == prev_node:\n",
    "                        # Return parameter : 방문한 적 있는 노드로 돌아갈 확률 제어\n",
    "                        probability.append(1/p)\n",
    "                    elif G.has_edge(neighbor, prev_node):\n",
    "                        # Stay parameter : 타겟 노드의 이웃 노드로 이동할 확률 1\n",
    "                        probability.append(1)\n",
    "                    else:\n",
    "                        # In-out parameter : 타겟 노드의 이웃이 아닌 노드로 이동할 확률 제어\n",
    "                        probability.append(1/q)\n",
    "\n",
    "                probability = np.array(probability)\n",
    "                probability = probability / probability.sum()  # normalize\n",
    "\n",
    "                next_node = np.random.choice(cur_neighbors, p=probability)\n",
    "                walk.append(next_node)\n",
    "        else:\n",
    "            break\n",
    "\n",
    "    return walk"
   ]
  },
  {
   "cell_type": "code",
   "execution_count": null,
   "metadata": {},
   "outputs": [],
   "source": [
    "def generate_walks(G, num_walks, walk_length, p=1, q=1):\n",
    "    walks = []\n",
    "    nodes = list(G.nodes())\n",
    "    for _ in range(num_walks):\n",
    "        random.shuffle(nodes)  # to ensure randomness\n",
    "        for node in nodes:\n",
    "            walk_from_node = biased_random_walk(G, node, walk_length, p, q)\n",
    "            walks.append(walk_from_node)\n",
    "    return walks"
   ]
  },
  {
   "cell_type": "code",
   "execution_count": null,
   "metadata": {},
   "outputs": [],
   "source": [
    "# Random Walk 생성\n",
    "walks = generate_walks(G, num_walks=10, walk_length=20, p=9, q=1)\n",
    "\n",
    "# walks는 random walk 결과를 담은 리스트라고 가정\n",
    "filtered_walks = [walk for walk in walks if len(walk) >= 5]\n",
    "\n",
    "# String 형태로 변환 (Word2Vec 입력을 위해)\n",
    "walks = [[str(node) for node in walk] for walk in walks]\n",
    "\n",
    "# Word2Vec 학습\n",
    "model = Word2Vec(walks, vector_size=128, window=5, min_count=0,  hs=1, sg=1, workers=4, epochs=10)\n",
    "\n",
    "# 노드 임베딩 추출\n",
    "embeddings = {node_id: model.wv[node_id] for node_id in model.wv.index_to_key}"
   ]
  },
  {
   "cell_type": "code",
   "execution_count": null,
   "metadata": {},
   "outputs": [],
   "source": [
    "def get_user_embedding(user_id, embeddings):\n",
    "    return embeddings[str(user_id)]"
   ]
  },
  {
   "cell_type": "code",
   "execution_count": null,
   "metadata": {},
   "outputs": [],
   "source": [
    "def get_rated_items(user_id, df):\n",
    "    return set(df[df['customer_id'] == user_id]['article_id'])"
   ]
  },
  {
   "cell_type": "code",
   "execution_count": null,
   "metadata": {},
   "outputs": [],
   "source": [
    "def calculate_similarities(user_id, df, embeddings):\n",
    "    rated_items = get_rated_items(user_id, df)\n",
    "    user_embedding = get_user_embedding(user_id, embeddings)\n",
    "\n",
    "    item_similarities = []\n",
    "    for item_id in set(df['article_id']):\n",
    "        if item_id not in rated_items:  # 이미 구매한 제품은 제외\n",
    "            item_embedding = embeddings[str(item_id)]\n",
    "            similarity = cosine_similarity([user_embedding], [item_embedding])[0][0]\n",
    "            item_similarities.append((item_id, similarity))\n",
    "\n",
    "    return item_similarities"
   ]
  },
  {
   "cell_type": "code",
   "execution_count": null,
   "metadata": {},
   "outputs": [],
   "source": [
    "def show_images(items, item_name_mapping, num_items, show_similarity=False):\n",
    "    # True로 설정되면, 아이템의 similarity score도 함께 출력됩니다!\n",
    "    f, ax = plt.subplots(1, num_items, figsize=(20,10))\n",
    "    if num_items == 1:\n",
    "        ax = [ax]\n",
    "    for i, item in enumerate(items):\n",
    "        item_id, similarity = item\n",
    "        print(f\"- Item {item_id}: {item_name_mapping[item_id]}\", end='')\n",
    "        if show_similarity:\n",
    "            print(f\" with similarity score: {similarity}\")\n",
    "        else:\n",
    "            print()\n",
    "        img_path = f\"../input/h-and-m-personalized-fashion-recommendations/images/0{str(item_id)[:2]}/0{int(item_id)}.jpg\"\n",
    "        try:\n",
    "            img = mpimg.imread(img_path)\n",
    "            ax[i].imshow(img)\n",
    "            ax[i].set_title(f'Item {item_id}')\n",
    "            ax[i].set_xticks([], [])\n",
    "            ax[i].set_yticks([], [])\n",
    "            ax[i].grid(False)\n",
    "        except FileNotFoundError:\n",
    "            print(f\"Image for item {item_id} not found.\")\n",
    "    plt.show()"
   ]
  },
  {
   "cell_type": "code",
   "execution_count": null,
   "metadata": {},
   "outputs": [],
   "source": [
    "\n",
    "def recommend_items(user_id, df, embeddings, item_name_mapping, num_items=5):\n",
    "    # 사용자가 이미 구매한 제품 찾기\n",
    "    rated_items = get_rated_items(user_id, df)\n",
    "    \n",
    "    # 사용자가 구매한 아이템의 이미지 출력\n",
    "    print(f\"User {user_id} has purchased:\")\n",
    "    show_images([(item_id, 0) for item_id in list(rated_items)[:5]], item_name_mapping, min(len(rated_items), 5))\n",
    "    \n",
    "    # 각 아이템 노드에 대한 유사도를 계산\n",
    "    item_similarities = calculate_similarities(user_id, df, embeddings)\n",
    "\n",
    "    # 유사도가 가장 높은 아이템들을 추천\n",
    "    recommended_items = sorted(item_similarities, key=lambda x: x[1], reverse=True)[:num_items]\n",
    "\n",
    "    print(f\"\\nRecommended items for user {user_id}:\")\n",
    "    show_images(recommended_items, item_name_mapping, num_items, show_similarity=True)\n"
   ]
  },
  {
   "cell_type": "code",
   "execution_count": null,
   "metadata": {},
   "outputs": [],
   "source": [
    "# 예제: 유저 45에 대한 추천 상위 5개 \n",
    "recommend_items(45, GraphTravel_HM, embeddings, item_name_mapping, num_items=5)"
   ]
  }
 ],
 "metadata": {
  "language_info": {
   "name": "python"
  },
  "orig_nbformat": 4
 },
 "nbformat": 4,
 "nbformat_minor": 2
}
