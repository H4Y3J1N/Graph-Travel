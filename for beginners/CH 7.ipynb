{
 "cells": [
  {
   "cell_type": "code",
   "execution_count": null,
   "metadata": {},
   "outputs": [],
   "source": [
    "# Reddit 데이터셋 불러오기\n",
    "from torch_geometric.datasets import Reddit\n",
    "\n",
    "dataset = Reddit(root='./data/Reddit')\n",
    "data = dataset[0]  # 데이터셋의 첫 번째 그래프 불러오기"
   ]
  },
  {
   "cell_type": "code",
   "execution_count": null,
   "metadata": {},
   "outputs": [],
   "source": [
    "train_nodes = set([i for i, mask in enumerate(train_mask) if mask])\n",
    "test_nodes = set([i for i, mask in enumerate(test_mask) if mask])\n",
    "\n",
    "# 본 적 없는 노드가 있는지 확인\n",
    "unseen_nodes = test_nodes - train_nodes\n",
    "\n",
    "if unseen_nodes:\n",
    "    print(f\"There are {len(unseen_nodes)} nodes in the test set that are not seen in the training set.\")\n",
    "else:\n",
    "    print(\"All nodes in the test set are seen in the training set.\")\n"
   ]
  },
  {
   "cell_type": "code",
   "execution_count": null,
   "metadata": {},
   "outputs": [],
   "source": []
  },
  {
   "cell_type": "code",
   "execution_count": null,
   "metadata": {},
   "outputs": [],
   "source": []
  },
  {
   "cell_type": "code",
   "execution_count": null,
   "metadata": {},
   "outputs": [],
   "source": []
  },
  {
   "cell_type": "code",
   "execution_count": null,
   "metadata": {},
   "outputs": [],
   "source": []
  }
 ],
 "metadata": {
  "kernelspec": {
   "display_name": "RecSys",
   "language": "python",
   "name": "python3"
  },
  "language_info": {
   "codemirror_mode": {
    "name": "ipython",
    "version": 3
   },
   "file_extension": ".py",
   "mimetype": "text/x-python",
   "name": "python",
   "nbconvert_exporter": "python",
   "pygments_lexer": "ipython3",
   "version": "3.9.12"
  },
  "orig_nbformat": 4
 },
 "nbformat": 4,
 "nbformat_minor": 2
}
